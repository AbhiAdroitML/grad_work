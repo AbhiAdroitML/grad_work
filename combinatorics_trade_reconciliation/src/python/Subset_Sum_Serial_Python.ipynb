{
 "cells": [
  {
   "cell_type": "code",
   "execution_count": 1,
   "metadata": {
    "collapsed": true,
    "pycharm": {
     "name": "#%%\n"
    }
   },
   "outputs": [],
   "source": [
    "# Required Libraries\n",
    "from itertools import combinations\n",
    "import pandas as pd"
   ]
  },
  {
   "cell_type": "code",
   "execution_count": 57,
   "outputs": [
    {
     "name": "stdout",
     "output_type": "stream",
     "text": [
      "Number of trades in file: 354, Unique:352\n"
     ]
    }
   ],
   "source": [
    "larget_trades = pd.read_csv(\"./largest_trades.csv\")\n",
    "print(f\"Number of trades in file: {len(larget_trades)}, Unique:{larget_trades.Amount.nunique()}\")"
   ],
   "metadata": {
    "collapsed": false,
    "pycharm": {
     "name": "#%%\n"
    }
   }
  },
  {
   "cell_type": "code",
   "execution_count": 62,
   "outputs": [
    {
     "name": "stdout",
     "output_type": "stream",
     "text": [
      "Unique 1: (-98618.73, 98618.59),sum = -0.14\n",
      "Total combinations: 2\n",
      " Total unique combinations:1\n",
      " Total digits covered in unique combinations:2\n"
     ]
    }
   ],
   "source": [
    "# Serial code to find combinations\n",
    "target_low = -1     # min range\n",
    "target_high = 1     # max range\n",
    "\n",
    "count_combo_found = 0     # keep count of total combinations found\n",
    "unique_set = set() # keep unique digits found in previous combinations\n",
    "count_unique_combo = 0    # keep count of total unique combinations\n",
    "\n",
    "trades= larget_trades['Amount'].tolist()\n",
    "for k in range(2, len(trades), 1):\n",
    "    for combo in combinations(trades,k):\n",
    "        if target_low <=sum(combo)<= target_high:\n",
    "            #print(combo, sum(combo))\n",
    "            count_combo_found += 1\n",
    "            # insert the fist combination values in empty set\n",
    "            if count_combo_found == 1:\n",
    "                for item in combo:\n",
    "                    unique_set.add(item)\n",
    "            # check if other combinations have overlapping digits with previous combinations\n",
    "            combo_set = set(combo)\n",
    "            #print(combo_set, combo)\n",
    "            if len(unique_set.intersection(combo_set)) == 0 or count_combo_found ==1:\n",
    "                count_unique_combo += 1\n",
    "                for item in combo:\n",
    "                    unique_set.add(item)\n",
    "                print(f\"Unique {count_unique_combo}: {combo},sum = {round(sum(combo),4)}\")\n",
    "\n",
    "print(f\"Total combinations: {count_combo_found}\\n\",\n",
    "      f\"Total unique combinations:{count_unique_combo}\\n\",\n",
    "      f\"Total digits covered in unique combinations:{len(unique_set)}\")"
   ],
   "metadata": {
    "collapsed": false,
    "pycharm": {
     "name": "#%%\n"
    }
   }
  }
 ],
 "metadata": {
  "kernelspec": {
   "display_name": "Python 3",
   "language": "python",
   "name": "python3"
  },
  "language_info": {
   "codemirror_mode": {
    "name": "ipython",
    "version": 2
   },
   "file_extension": ".py",
   "mimetype": "text/x-python",
   "name": "python",
   "nbconvert_exporter": "python",
   "pygments_lexer": "ipython2",
   "version": "2.7.6"
  }
 },
 "nbformat": 4,
 "nbformat_minor": 0
}